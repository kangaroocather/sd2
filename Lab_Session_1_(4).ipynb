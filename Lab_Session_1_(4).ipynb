{
  "cells": [
    {
      "cell_type": "markdown",
      "metadata": {
        "id": "view-in-github",
        "colab_type": "text"
      },
      "source": [
        "<a href=\"https://colab.research.google.com/github/kangaroocather/sd2/blob/main/Lab_Session_1_(4).ipynb\" target=\"_parent\"><img src=\"https://colab.research.google.com/assets/colab-badge.svg\" alt=\"Open In Colab\"/></a>"
      ]
    },
    {
      "cell_type": "markdown",
      "metadata": {
        "id": "0fU6vnTkz9X6"
      },
      "source": [
        "# Data Science - CMP020N205\n",
        "## Lab Session 1 -  Basics of Statistical Analysis\n",
        "\n",
        "Python-based computing environments are one of the most popular options among data scientists. Python provides standard, in-built functionalities that can be extended importing third-party packages. One of the most common third-party libraries include **NumPy.**, which we will use for this week's lab task. We will also use **Scipy** library for some of the calculations.\n",
        "\n",
        "The labs in this module will use Python-powered Jupyter notebooks to create interactive data science computing environments. A Jupyter notebook consists of code cells that contain code that can be executed, and text cells that are used for documetation purposes. Jupyter notebooks are powered by an engine, in our case Python, that can be on your machine (local runtime) or hosted on a remote, cloud-based machine (hosted runtime). The instructions in each lab will assume that you are using Google Colab, but you should be able to use other runtimes too. If you choose other runtimes you might need to do some minor tweaks, such as installing a library that is provided by the Google Colab environment by default.\n",
        "\n",
        "\n"
      ]
    },
    {
      "cell_type": "markdown",
      "metadata": {
        "id": "FsVMx2ZC1gEI"
      },
      "source": [
        "### 1. Introductory Instructions about handling **Text block** and **Code block** in Python:\n",
        "\n",
        "Click on this text, and cell that contains it will be highlighted. Double-click on it, and you will be able to edit it.\n",
        "\n",
        "Text cells, also known as markdown cells, allow you to document your work. You can use different fonts, add titles, include resources such as images and even write nice mathematical expression, for instance\n",
        "\n",
        "$\\begin{equation}\n",
        "f(x) = w_0 + w_1 x\n",
        "\\end{equation}$\n",
        "\n",
        "To write such nice mathematical expressions, you need to use a different markup language called Latex.\n",
        "\n",
        "Code cells, such as the one below this text cell, contain code that can be executed. In the example below, we first create the variable mystring by assigning the string value \"Welcome to your first Data Science Session!\" and then we print it. You can run it by clicking on the play button on the left of the block. Any output will appear underneath the block."
      ]
    },
    {
      "cell_type": "code",
      "execution_count": 1,
      "metadata": {
        "id": "oFj7Ffc83Pvs",
        "colab": {
          "base_uri": "https://localhost:8080/"
        },
        "outputId": "c215e998-d8ec-4836-a115-a85789c6c231"
      },
      "outputs": [
        {
          "output_type": "stream",
          "name": "stdout",
          "text": [
            "Welcome to your first Data Science Session!\n"
          ]
        }
      ],
      "source": [
        "mystring = \"Welcome to your first Data Science Session!\"\n",
        "print(mystring)"
      ]
    },
    {
      "cell_type": "markdown",
      "metadata": {
        "id": "LYeRdqNz4eUr"
      },
      "source": [
        "Notice that if you are using a Colab, it might take a while to run your first cell. The reason is that Google needs to allocate some computing resources first, so nothing to worry about.\n",
        "\n",
        "Here is another example, where we create an integer variable myint:"
      ]
    },
    {
      "cell_type": "code",
      "execution_count": 3,
      "metadata": {
        "id": "Y7zbdX3q4tOl"
      },
      "outputs": [],
      "source": [
        "myint = 25"
      ]
    },
    {
      "cell_type": "markdown",
      "metadata": {
        "id": "V2vm9eyp41Uv"
      },
      "source": [
        "You will have noticed that running the cell didn't produce any output. The variable has however been created, as you can see if you use the command whos:"
      ]
    },
    {
      "cell_type": "code",
      "execution_count": 4,
      "metadata": {
        "id": "94YibkQl4476",
        "colab": {
          "base_uri": "https://localhost:8080/"
        },
        "outputId": "35700b9c-e143-4f72-86e8-218154fabf73"
      },
      "outputs": [
        {
          "output_type": "stream",
          "name": "stdout",
          "text": [
            "Variable   Type    Data/Info\n",
            "----------------------------\n",
            "myint      int     25\n",
            "mystring   str     Welcome to your first Data Science Session!\n"
          ]
        }
      ],
      "source": [
        "whos"
      ]
    },
    {
      "cell_type": "markdown",
      "metadata": {
        "id": "DGAHSA8N5dZH"
      },
      "source": [
        "Using print, you can check the value of myint:"
      ]
    },
    {
      "cell_type": "code",
      "execution_count": null,
      "metadata": {
        "id": "oR8FUwIL5mES",
        "outputId": "0921628b-d511-4245-fb0d-918048833c41"
      },
      "outputs": [
        {
          "name": "stdout",
          "output_type": "stream",
          "text": [
            "The value I want to print is: 25\n"
          ]
        }
      ],
      "source": [
        "print(\"The value I want to print is:\", myint)"
      ]
    },
    {
      "cell_type": "markdown",
      "metadata": {
        "id": "3XJ0fcZY71pV"
      },
      "source": [
        "### 2. Importing Library: NumPy\n",
        "\n",
        "NumPy is the fundamental Python library for numerical computing."
      ]
    },
    {
      "cell_type": "code",
      "execution_count": 9,
      "metadata": {
        "id": "VRujckfq8KDF"
      },
      "outputs": [],
      "source": [
        "import numpy as np"
      ]
    },
    {
      "cell_type": "markdown",
      "metadata": {
        "id": "N4azidFe8nlm"
      },
      "source": [
        "### How to Upload Files, e.g. Dataset(s)\n",
        "In this module we will emphasize on how to extract knowledge from data. Hence, at some point we will need to make our data available to the machine running our code. If you are running your Jupyter notebook on Google Colab, then we'll need to make sure Colab's runtime has access to our data.\n",
        "\n",
        "There are different ways to make our data accessible, but here we will present the easiest one:\n",
        "\n",
        "- Find the `Files` icon on the left pane and click on it.\n",
        "- Click on the `Upload` icon.\n",
        "- Select the file that you want to upload from your local machine.\n",
        "\n",
        "Note that you will not be able to upload a file if your notebook has not been allocated any Colab computing resources. Also note that your notebook will be disconnected if left idle for too long and after 12 hours. Disconnection will result in your data being lost.\n",
        "\n",
        "We will upload the CSV file `HP.csv`. Once uploaded, you should be able to see it on the left-hand pane."
      ]
    },
    {
      "cell_type": "code",
      "execution_count": 11,
      "metadata": {
        "id": "UCgMg7x4_LUk",
        "colab": {
          "base_uri": "https://localhost:8080/"
        },
        "outputId": "53066220-f74d-46cb-b6a1-d163e481c813"
      },
      "outputs": [
        {
          "output_type": "stream",
          "name": "stdout",
          "text": [
            "[110 110  93  96  90 110 110 110]\n"
          ]
        }
      ],
      "source": [
        "HP_Var = np.loadtxt(\"./HP.csv\", dtype=int)\n",
        "print (HP_Var)\n"
      ]
    },
    {
      "cell_type": "markdown",
      "metadata": {
        "id": "j2NrvhQgG8yj"
      },
      "source": [
        "**Calculating the \"Mean\" of HP**"
      ]
    },
    {
      "cell_type": "code",
      "execution_count": 17,
      "metadata": {
        "id": "CaaUBRuvHKgu",
        "colab": {
          "base_uri": "https://localhost:8080/"
        },
        "outputId": "26d5d327-651d-4366-ca98-093c4df3d8e6"
      },
      "outputs": [
        {
          "output_type": "stream",
          "name": "stdout",
          "text": [
            "103.625\n"
          ]
        }
      ],
      "source": [
        "Mean_of_HP= np.mean(HP_Var)\n",
        "print (Mean_of_HP)"
      ]
    },
    {
      "cell_type": "markdown",
      "metadata": {
        "id": "4VR_Mvo_-VAK"
      },
      "source": [
        "## Question 1\n",
        "Upload MpG.csv (Milage per Gallon of Cars) and calculate the \"Mean\" of Milage per Gallon."
      ]
    },
    {
      "cell_type": "code",
      "execution_count": 25,
      "metadata": {
        "id": "BZefbCGMIroU",
        "colab": {
          "base_uri": "https://localhost:8080/"
        },
        "outputId": "7ba49f5c-ecd2-47f2-8fb6-a64660eaf33b"
      },
      "outputs": [
        {
          "output_type": "stream",
          "name": "stdout",
          "text": [
            "[21 21 22 21 23 23 23 23]\n",
            "22.125\n"
          ]
        },
        {
          "output_type": "stream",
          "name": "stderr",
          "text": [
            "<ipython-input-25-24b80567979d>:2: DeprecationWarning: loadtxt(): Parsing an integer via a float is deprecated.  To avoid this warning, you can:\n",
            "    * make sure the original data is stored as integers.\n",
            "    * use the `converters=` keyword argument.  If you only use\n",
            "      NumPy 1.23 or later, `converters=float` will normally work.\n",
            "    * Use `np.loadtxt(...).astype(np.int64)` parsing the file as\n",
            "      floating point and then convert it.  (On all NumPy versions.)\n",
            "  (Deprecated NumPy 1.23)\n",
            "  MpG_Var = np.loadtxt(\"./MpG.csv\", dtype=int)\n"
          ]
        }
      ],
      "source": [
        "#feel free to copy and paste the appropriate code segments from the previous sections here.\n",
        "MpG_Var = np.loadtxt(\"./MpG.csv\", dtype=int)\n",
        "print (MpG_Var)\n",
        "\n",
        "Mean_of_MpG=np.mean(MpG_Var)\n",
        "print(Mean_of_MpG)\n",
        "\n"
      ]
    },
    {
      "cell_type": "markdown",
      "metadata": {
        "id": "puECPZQOKgOj"
      },
      "source": [
        "**Calculating Median of \"HP\"**"
      ]
    },
    {
      "cell_type": "code",
      "execution_count": 36,
      "metadata": {
        "id": "wkICLgt_KmCM",
        "colab": {
          "base_uri": "https://localhost:8080/"
        },
        "outputId": "f9608494-c9b7-40e1-fcfc-eea5a69b7b31"
      },
      "outputs": [
        {
          "output_type": "stream",
          "name": "stdout",
          "text": [
            "22.5\n"
          ]
        }
      ],
      "source": [
        "Median_of_MpG= np.median(MpG_Var)\n",
        "print(Median_of_MpG)"
      ]
    },
    {
      "cell_type": "markdown",
      "metadata": {
        "id": "etiWyBG9LLVR"
      },
      "source": [
        "## Question 2\n",
        "Calculate the \"Median\" of Milage per Gallon."
      ]
    },
    {
      "cell_type": "code",
      "execution_count": null,
      "metadata": {
        "id": "97VSpPKeMWF3"
      },
      "outputs": [],
      "source": [
        "#feel free to copy and paste the appropriate code segments from the previous sections here.\n"
      ]
    },
    {
      "cell_type": "markdown",
      "metadata": {
        "id": "6oqFoYlMDXmw"
      },
      "source": [
        "### 3.  Importing Library: SciPy\n",
        "\n",
        "SciPy stands for Scientific python. For some statistical calculation, such as Mode, we do need Scipy as Numpy has no direct function to facilitate the calculation of Mode.\n",
        "\n",
        "There are several classes available in scipy library. One of them is \"stats\" which is used to calculate mode."
      ]
    },
    {
      "cell_type": "markdown",
      "metadata": {
        "id": "RDayOE4yOGF-"
      },
      "source": [
        "Now, the following syntax is about calculating \"Mode\". We will see an example syntax where, we will calculate \"Mode\" of HP."
      ]
    },
    {
      "cell_type": "code",
      "execution_count": 26,
      "metadata": {
        "id": "yBJdTMuxFICa",
        "colab": {
          "base_uri": "https://localhost:8080/"
        },
        "outputId": "0eb5898d-5546-4067-b434-e200157bbb74"
      },
      "outputs": [
        {
          "output_type": "stream",
          "name": "stdout",
          "text": [
            "ModeResult(mode=110, count=5)\n"
          ]
        }
      ],
      "source": [
        "from scipy import stats\n",
        "\n",
        "Mode_of_HP=stats.mode(HP_Var)\n",
        "print(Mode_of_HP)"
      ]
    },
    {
      "cell_type": "markdown",
      "metadata": {
        "id": "xKzBVcpcQKv8"
      },
      "source": [
        "## Question 3\n",
        "Upload the file CType.csv and calculate the \"Mode\" of cylindar type of Cars."
      ]
    },
    {
      "cell_type": "code",
      "execution_count": 29,
      "metadata": {
        "id": "yTR0mf5PWg0u",
        "colab": {
          "base_uri": "https://localhost:8080/"
        },
        "outputId": "ea0d0cc7-b523-4f59-c981-287d3d77b101"
      },
      "outputs": [
        {
          "output_type": "stream",
          "name": "stdout",
          "text": [
            "ModeResult(mode=23, count=4)\n"
          ]
        }
      ],
      "source": [
        "#feel free to copy and paste the appropriate code segments from the previous sections here.\n",
        "\n",
        "from scipy import stats\n",
        "\n",
        "Mode_of_MpG=stats.mode(MpG_Var)\n",
        "print(Mode_of_MpG)"
      ]
    },
    {
      "cell_type": "markdown",
      "metadata": {
        "id": "nakxgYBzSruY"
      },
      "source": [
        "Following code segment is for calculating \"Variance\". We will calculate Variance of HP of cars.\n",
        "\n",
        "**Calculating Variance of HP**"
      ]
    },
    {
      "cell_type": "code",
      "execution_count": 30,
      "metadata": {
        "id": "6oeXEsnBTKMk",
        "colab": {
          "base_uri": "https://localhost:8080/"
        },
        "outputId": "48d19f9f-bd6f-41ae-ec18-2f8d0c577c4e"
      },
      "outputs": [
        {
          "output_type": "stream",
          "name": "stdout",
          "text": [
            "69.984375\n"
          ]
        }
      ],
      "source": [
        "Variance_of_HP= np.var(HP_Var)\n",
        "print(Variance_of_HP)"
      ]
    },
    {
      "cell_type": "markdown",
      "metadata": {
        "id": "WPDIZ2Q7TrR-"
      },
      "source": [
        "## Question 4\n",
        "Calculate the variance of Milage per Gallon."
      ]
    },
    {
      "cell_type": "code",
      "execution_count": 31,
      "metadata": {
        "id": "YPyw9cMDT7dP",
        "colab": {
          "base_uri": "https://localhost:8080/"
        },
        "outputId": "c4c4a57c-1c54-4f74-8ae5-e0d72066ca0b"
      },
      "outputs": [
        {
          "output_type": "stream",
          "name": "stdout",
          "text": [
            "0.859375\n"
          ]
        }
      ],
      "source": [
        "#feel free to copy and paste the appropriate code segments from the previous sections here.\n",
        "Variance_of_MpG= np.var(MpG_Var)\n",
        "print(Variance_of_MpG)\n",
        "// you replace the variable with the chosen file  or chosen file such"
      ]
    },
    {
      "cell_type": "markdown",
      "metadata": {
        "id": "0vSwAo1hUmU7"
      },
      "source": [
        "Now, the following code segment is given as an example of calculation of \"Standard Deviation\". We will calculate standard deviation of \"HP\" of Cars.\n",
        "\n",
        "**Calculating the Standard Deviation of HP**"
      ]
    },
    {
      "cell_type": "code",
      "execution_count": null,
      "metadata": {
        "id": "k3F-0D9bU4XA"
      },
      "outputs": [],
      "source": [
        "S_Deviation_of_HP= np.std(HP_Var)\n",
        "print(S_Deviation_of_HP)"
      ]
    },
    {
      "cell_type": "markdown",
      "metadata": {
        "id": "dDZyzzULVbFI"
      },
      "source": [
        "## Question 5\n",
        "Calculate the Standard Deviation of MpG (Milage per Gallon) of Cars."
      ]
    },
    {
      "cell_type": "code",
      "execution_count": 32,
      "metadata": {
        "id": "vy2v-8J3VoWy",
        "colab": {
          "base_uri": "https://localhost:8080/"
        },
        "outputId": "1fa7f6d7-5d4d-42ec-e6b1-03d58af9e41b"
      },
      "outputs": [
        {
          "output_type": "stream",
          "name": "stdout",
          "text": [
            "0.9270248108869579\n"
          ]
        }
      ],
      "source": [
        "#feel free to copy and paste the appropriate code segments from the previous sections here.\n",
        "\n",
        "S_Deviation_of_MpG= np.std(MpG_Var)\n",
        "print(S_Deviation_of_MpG)"
      ]
    },
    {
      "cell_type": "markdown",
      "metadata": {
        "id": "LUA045FSXSr_"
      },
      "source": [
        "**Calculating the Range of a quantity**\n",
        "\n",
        "As you know \"Range\" of an attribute is calculated from the difference of the Maximum value of that attribute and the minimum value of that attribute. Therefore, it is essential to find the Maximum and Minimum value of any attribute in a dataset to calculate its Range.\n"
      ]
    },
    {
      "cell_type": "markdown",
      "metadata": {
        "id": "miLOnRzqYh1w"
      },
      "source": [
        "**Calculating the Range of a quantity**\n",
        "\n",
        "As you know \"Range\" of an attribute is calculated from the difference of the Maximum value of that attribute and the minimum value of that attribute. Therefore, it is essential to find the Maximum and Minimum value of any attribute in a dataset to calculate its Range.\n",
        "\n",
        "There are two methods:\n",
        "\n",
        "Method 1 - Using max and min function\n",
        "\n",
        "Method 2 - Using for loop\n",
        "Since there is no built in function that can be commonly used to calculating Range from the Dataset.\n",
        "You must first define a custom function (e.g. called \"Range(x)\" for completing this task)"
      ]
    },
    {
      "cell_type": "code",
      "execution_count": null,
      "metadata": {
        "id": "liuyxpx-Yt7O",
        "outputId": "f261312a-3215-4d61-88c2-1bf6a53f815a"
      },
      "outputs": [
        {
          "name": "stdout",
          "output_type": "stream",
          "text": [
            "maximum =: 110\n",
            "minimum =: 90\n",
            "Range =: 20\n"
          ]
        }
      ],
      "source": [
        "# Method 1 - Using max and min function\n",
        "largest = max(MpG_Var)\n",
        "print(\"maximum =:\", largest)\n",
        "smallest = min(MpG_Var)\n",
        "print(\"minimum =:\", smallest)\n",
        "range= largest - smallest\n",
        "print(\"Range =:\", range)"
      ]
    },
    {
      "cell_type": "code",
      "execution_count": null,
      "metadata": {
        "id": "K6y2J7V4LQRb",
        "outputId": "d6723aac-81eb-4b1a-cc29-e3e9260323dd"
      },
      "outputs": [
        {
          "name": "stdout",
          "output_type": "stream",
          "text": [
            "20\n"
          ]
        }
      ],
      "source": [
        "#Method 2 - Using for loop\n",
        "def Range(x):\n",
        "    max = 0\n",
        "    min = 9999999999999\n",
        "\n",
        "    for values in x:\n",
        "        if values>max :\n",
        "            max = values\n",
        "        if values<min:\n",
        "            min= values\n",
        "\n",
        "    range=max-min\n",
        "    return range\n",
        "\n",
        "range = Range(HP_Var)\n",
        "print(range)"
      ]
    },
    {
      "cell_type": "markdown",
      "metadata": {
        "id": "003toSk-LQRb"
      },
      "source": [
        "## Question 6\n",
        "Using methods 1 and 2 to calculate the Range of Milage per Gallon from MpG.csv Dataset."
      ]
    },
    {
      "cell_type": "markdown",
      "source": [],
      "metadata": {
        "id": "lemhwc7rUPzi"
      }
    },
    {
      "cell_type": "code",
      "execution_count": 34,
      "metadata": {
        "colab": {
          "base_uri": "https://localhost:8080/"
        },
        "id": "Fw62HxyNLQRb",
        "outputId": "c5630511-7dc8-4c74-a8d0-b1aadc214aa8"
      },
      "outputs": [
        {
          "output_type": "stream",
          "name": "stdout",
          "text": [
            "maximum =: 23\n",
            "minimum =: 21\n",
            "Range =: 2\n"
          ]
        }
      ],
      "source": [
        "# Method 1 - Using max and min function\n",
        "largest = max(MpG_Var)\n",
        "print(\"maximum =:\", largest)\n",
        "smallest = min(MpG_Var)\n",
        "print(\"minimum =:\", smallest)\n",
        "range= largest - smallest\n",
        "print(\"Range =:\", range)"
      ]
    },
    {
      "cell_type": "code",
      "execution_count": 35,
      "metadata": {
        "colab": {
          "base_uri": "https://localhost:8080/"
        },
        "id": "rp6TFK6yLQRb",
        "outputId": "72b6fe01-5de2-46ef-a6d8-4f9f09b53f26"
      },
      "outputs": [
        {
          "output_type": "stream",
          "name": "stdout",
          "text": [
            "2\n"
          ]
        }
      ],
      "source": [
        "# Method 2 - Using for loop\n",
        "def Range(x):\n",
        "    max = 0\n",
        "    min = 9999999999999\n",
        "\n",
        "    for values in x:\n",
        "        if values>max :\n",
        "            max = values\n",
        "        if values<min:\n",
        "            min= values\n",
        "\n",
        "    range=max-min\n",
        "    return range\n",
        "\n",
        "range = Range(MpG_Var)\n",
        "print(range)"
      ]
    }
  ],
  "metadata": {
    "colab": {
      "provenance": [],
      "include_colab_link": true
    },
    "kernelspec": {
      "display_name": "Python 3 (ipykernel)",
      "language": "python",
      "name": "python3"
    },
    "language_info": {
      "codemirror_mode": {
        "name": "ipython",
        "version": 3
      },
      "file_extension": ".py",
      "mimetype": "text/x-python",
      "name": "python",
      "nbconvert_exporter": "python",
      "pygments_lexer": "ipython3",
      "version": "3.9.12"
    }
  },
  "nbformat": 4,
  "nbformat_minor": 0
}