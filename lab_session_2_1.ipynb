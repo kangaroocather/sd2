{
  "cells": [
    {
      "cell_type": "markdown",
      "metadata": {
        "id": "view-in-github",
        "colab_type": "text"
      },
      "source": [
        "<a href=\"https://colab.research.google.com/github/kangaroocather/sd2/blob/main/lab_session_2_1.ipynb\" target=\"_parent\"><img src=\"https://colab.research.google.com/assets/colab-badge.svg\" alt=\"Open In Colab\"/></a>"
      ]
    },
    {
      "cell_type": "markdown",
      "metadata": {
        "id": "a7Vf5gdlLFMm"
      },
      "source": [
        "# Data Science - CMP020N205\n",
        "## Lab Session 2 -  Probabilitiy and Linear Algebra for Data Science"
      ]
    },
    {
      "cell_type": "markdown",
      "metadata": {
        "id": "bNosv0_As7U0"
      },
      "source": [
        "###  1. Importing Library: Numpy\n",
        "(From week 1 Lab, you can find more information about **\"NumPy\"** library).\n",
        "\n",
        "NumPy is the fundamental Python library for numerical computing."
      ]
    },
    {
      "cell_type": "code",
      "execution_count": null,
      "metadata": {
        "id": "u_1Fy4tAxAvT"
      },
      "outputs": [],
      "source": [
        "import numpy as np"
      ]
    },
    {
      "cell_type": "markdown",
      "metadata": {
        "id": "2VPinPufxJjf"
      },
      "source": [
        "### 2. Importing Library: SciPy\n",
        "(From Last week's Lab, you can find more information about **\"SciPy\"** library).\n",
        "\n",
        "**SciPy** stands for Scientific python. For some statistical calculation we do need Scipy e.g, during last week, you have used stats from Scipy to calculate \"Mode\".\n",
        "\n"
      ]
    },
    {
      "cell_type": "code",
      "execution_count": null,
      "metadata": {
        "id": "IJlp7e43za2D"
      },
      "outputs": [],
      "source": [
        "from scipy import stats"
      ]
    },
    {
      "cell_type": "markdown",
      "metadata": {
        "id": "ooM1zm_gziG9"
      },
      "source": [
        "### 3. Importing Library: Math\n",
        "\n",
        "**Math** is a library you can apply for performing mathematical tasks by using different Math methods in this library."
      ]
    },
    {
      "cell_type": "code",
      "execution_count": null,
      "metadata": {
        "id": "DkBJYwGN0qvJ"
      },
      "outputs": [],
      "source": [
        "import math as mt"
      ]
    },
    {
      "cell_type": "markdown",
      "metadata": {
        "id": "Zl-nQ8c00L6D"
      },
      "source": [
        "### 4. Importing Library: Random\n",
        "Python has a built-in library **random** which can be used for generating random numbers/values\n"
      ]
    },
    {
      "cell_type": "code",
      "execution_count": null,
      "metadata": {
        "id": "2kgzD8ph2P5u"
      },
      "outputs": [],
      "source": [
        "import random as rnd"
      ]
    },
    {
      "cell_type": "markdown",
      "metadata": {
        "id": "HM5LBqiq7Iry"
      },
      "source": [
        "### 5. Matrix Operations\n",
        "There are different ways that we can represent Matrix in Python. We will see how we can represent Matrix using NumPy Library.\n",
        "\n",
        "An example code is provided below:"
      ]
    },
    {
      "cell_type": "code",
      "execution_count": null,
      "metadata": {
        "colab": {
          "base_uri": "https://localhost:8080/"
        },
        "id": "jqTXfoaW8GeM",
        "outputId": "6e251f81-c845-4131-d4eb-d160c6a05c2f"
      },
      "outputs": [
        {
          "output_type": "stream",
          "name": "stdout",
          "text": [
            "addition of x and y [[3 5]\n",
            " [8 4]]\n",
            "difference between x and y [[ 1  1]\n",
            " [-2  6]]\n",
            "dot product of x and y [[17  1]\n",
            " [28  1]]\n"
          ]
        }
      ],
      "source": [
        "x = np.array( ((2,3), (3, 5)) )\n",
        "y = np.array( ((1,2), (5, -1)) )\n",
        "addition= x+y\n",
        "print (\"addition of x and y\", addition )\n",
        "\n",
        "subtraction = x-y\n",
        "print (\"difference between x and y\", subtraction )\n",
        "\n",
        "dot_product= np.dot(x,y)\n",
        "print (\"dot product of x and y\", dot_product )\n",
        "\n"
      ]
    },
    {
      "cell_type": "markdown",
      "metadata": {
        "id": "Ff_ksLn1EUq5"
      },
      "source": [
        "There is another function in **NumPy** called **matrix()** that provide convinient notations of Matrix multiplication. Using the **matrix()** function when we will do x*y it actually gives us the \"dot product multiplication\" whereas, for NumPy array only does \"element-wise\" multiplication.\n",
        "\n",
        "Therefore, to find the multiplication in our previous example we used np.dot function for getting the multiplication while using numpy array.\n",
        "\n",
        "**Another important note,** Numpy matrix() is strictly two dimensional, while NumPy array can be of any dimension.\n",
        "\n",
        "We have an example below, where we used NumPy Matrix to perform a matrix multiplication"
      ]
    },
    {
      "cell_type": "code",
      "execution_count": null,
      "metadata": {
        "colab": {
          "base_uri": "https://localhost:8080/"
        },
        "id": "o1D2LW3kHf5Y",
        "outputId": "6fbf0f38-3392-4cbb-c0c1-e15184d2d4f4"
      },
      "outputs": [
        {
          "output_type": "stream",
          "name": "stdout",
          "text": [
            "multiplication of x and y [[17  1]\n",
            " [28  1]]\n"
          ]
        }
      ],
      "source": [
        "x = np.matrix( ((2,3), (3, 5)) )\n",
        "y = np.matrix( ((1,2), (5, -1)) )\n",
        "multiplication = x * y\n",
        "print (\"multiplication of x and y\", multiplication )\n"
      ]
    },
    {
      "cell_type": "code",
      "source": [],
      "metadata": {
        "id": "TFAboUyIRPXv"
      },
      "execution_count": null,
      "outputs": []
    },
    {
      "cell_type": "markdown",
      "metadata": {
        "id": "V1thnB7lZGx4"
      },
      "source": [
        "## Question 1\n",
        "You are given with metrices \"a\" contains ((45,35), (21,51)) , \"b\" contains ((1,2), (3,4)) and, \"c\" contains ((100,101), (200,201)). Now perform the following operations given:\n",
        "\n",
        "***Hint:*** You can either use \"array\" or \"matrix\" function.\n",
        "\n",
        "\n",
        "\n",
        "1.   a+b\n",
        "2.   b-c\n",
        "3. a*c\n",
        "4. b.c"
      ]
    },
    {
      "cell_type": "code",
      "source": [
        "import numpy as np\n",
        "\n",
        "\n",
        "a = np.matrix(((45,35), (21,51)))\n",
        "b = np.matrix( ((1,2), (3,4)))\n",
        "c = np.matrix( ((100,101), (200,201)))\n",
        "\n",
        "addition = a + b\n",
        "print(\"addition of a and c:\\n\", addition)\n",
        "\n",
        "subtraction = b-c\n",
        "print(\"subtraction of a and c:\\n\", subtraction)\n",
        "\n",
        "\n",
        "multiplication = a * c  # Equivalent to np.matmul(a, c) or a.dot(c)\n",
        "print(\"Multiplication of a and c:\\n\", multiplication)\n",
        "\n"
      ],
      "metadata": {
        "colab": {
          "base_uri": "https://localhost:8080/"
        },
        "id": "ye7d9Y8-OJJK",
        "outputId": "9def236c-3d3c-40fb-f9b5-db123abad5eb"
      },
      "execution_count": null,
      "outputs": [
        {
          "output_type": "stream",
          "name": "stdout",
          "text": [
            "addition of a and c:\n",
            " [[46 37]\n",
            " [24 55]]\n",
            "subtraction of a and c:\n",
            " [[11500 11580]\n",
            " [12300 12372]]\n",
            "Multiplication of a and c:\n",
            " [[11500 11580]\n",
            " [12300 12372]]\n"
          ]
        }
      ]
    },
    {
      "cell_type": "code",
      "execution_count": null,
      "metadata": {
        "id": "y5ST5NZRGxZG"
      },
      "outputs": [],
      "source": [
        "import numpy as"
      ]
    },
    {
      "cell_type": "markdown",
      "metadata": {
        "id": "E00dP_qZApqx"
      },
      "source": [
        "### 6. Vector Operations\n",
        "There are different ways that we can represent Vector in Python as well. We will see how we can represent Vector using NumPy Library.\n",
        "\n",
        "An example code is provided below:"
      ]
    },
    {
      "cell_type": "code",
      "execution_count": null,
      "metadata": {
        "colab": {
          "base_uri": "https://localhost:8080/"
        },
        "id": "H-E-coILBBH2",
        "outputId": "5819b289-07fc-4da7-9e3b-c2bbcf863ada"
      },
      "outputs": [
        {
          "name": "stdout",
          "output_type": "stream",
          "text": [
            "addition of x and y [ 6  1 11]\n",
            "difference between x and y [-4  3 -1]\n",
            "multiplication between x and y [ 5 -2 30]\n",
            "dot product of x and y 33\n"
          ]
        }
      ],
      "source": [
        "x = np.array( [1, 2, 5] )\n",
        "y = np.array( [5,-1, 6])\n",
        "addition= x+y\n",
        "print (\"addition of x and y\", addition )\n",
        "\n",
        "subtraction = x-y\n",
        "print (\"difference between x and y\", subtraction )\n",
        "\n",
        "multiplication = x*y\n",
        "print (\"multiplication between x and y\", multiplication)\n",
        "\n",
        "dot_product= np.dot(x,y)\n",
        "print (\"dot product of x and y\", dot_product)\n",
        "\n"
      ]
    },
    {
      "cell_type": "markdown",
      "metadata": {
        "id": "9UvYa-eHEOOU"
      },
      "source": [
        "There is no such function available for calculating Vector Modulus in NumPy or, in any other commonly used Python libraries.\n",
        "\n",
        "Therefore, there are several work arounds and here one of them is given below:"
      ]
    },
    {
      "cell_type": "code",
      "execution_count": null,
      "metadata": {
        "colab": {
          "base_uri": "https://localhost:8080/"
        },
        "id": "tkoln3B3InQz",
        "outputId": "e48c9277-dac8-4954-d0fb-4e0e86835939"
      },
      "outputs": [
        {
          "name": "stdout",
          "output_type": "stream",
          "text": [
            "7.416198487095663\n"
          ]
        }
      ],
      "source": [
        "x=np.array([1,2,3,4,5])\n",
        "\n",
        "modulus=np.sqrt(np.dot(x,x)) #np.dot(v,v) multiplies the elements of v with themselves and squares them before adding\n",
        "print(modulus)\n"
      ]
    },
    {
      "cell_type": "markdown",
      "metadata": {
        "id": "iUbDTHefhqta"
      },
      "source": [
        "We will now see an example of multiplication of vector with a scalar value. We can simply use multiply() function in this occassion."
      ]
    },
    {
      "cell_type": "code",
      "execution_count": null,
      "metadata": {
        "colab": {
          "base_uri": "https://localhost:8080/"
        },
        "id": "iD-n8k2WiCQ0",
        "outputId": "193ed21c-ea23-4a36-8858-2dfa59139069"
      },
      "outputs": [
        {
          "data": {
            "text/plain": [
              "array([100, 200, 300])"
            ]
          },
          "execution_count": 10,
          "metadata": {},
          "output_type": "execute_result"
        }
      ],
      "source": [
        "import numpy as np\n",
        "vector = np.array([1, 2, 3])\n",
        "n = 100\n",
        "np.multiply(vector,n)"
      ]
    },
    {
      "cell_type": "markdown",
      "metadata": {
        "id": "Cl2VOiUtiozC"
      },
      "source": [
        "## Question 2\n",
        "You are given with a vector/1D matrix, ([90,200,20,1,54,200]) contains the club card points he earned on different occassions. You are giving him 2 times more points and you want to store that 2 times rewarded points in a new vector/1D array. Write a code to store this infomation.\n"
      ]
    },
    {
      "cell_type": "code",
      "source": [
        "import numpy as np\n",
        "original_points=np.array([90,200,20,1,54,200])\n",
        "double_points=original_points*2\n",
        "print(\"Original Points:\", original_points)\n",
        "print(\"Doubled Points:\", double_points)"
      ],
      "metadata": {
        "colab": {
          "base_uri": "https://localhost:8080/"
        },
        "id": "hu3Vx1SdUmQy",
        "outputId": "6a7d1125-bbeb-4ed7-abda-ddee0d9d50ec"
      },
      "execution_count": null,
      "outputs": [
        {
          "output_type": "stream",
          "name": "stdout",
          "text": [
            "Original Points: [ 90 200  20   1  54 200]\n",
            "Doubled Points: [180 400  40   2 108 400]\n"
          ]
        }
      ]
    },
    {
      "cell_type": "markdown",
      "source": [],
      "metadata": {
        "id": "_d2vD7b-Trhv"
      }
    },
    {
      "cell_type": "markdown",
      "metadata": {
        "id": "72cVmKAUNbgn"
      },
      "source": [
        "### 7. Generating Binomial Distribution\n",
        "We will now see how we can generate a Binomial Distribution and we will find the PMF, CMF and other statistical measures using **Stats** function from **SciPy** library.\n",
        "\n",
        "Following is an example code given, for function binom(n=10,p=0.2), where, n is the number of trials and p holds the probability of success."
      ]
    },
    {
      "cell_type": "code",
      "execution_count": null,
      "metadata": {
        "colab": {
          "base_uri": "https://localhost:8080/"
        },
        "id": "Neg24XIbOWwE",
        "outputId": "764458b2-2f28-4f53-923a-ac4f87d82277"
      },
      "outputs": [
        {
          "name": "stdout",
          "output_type": "stream",
          "text": [
            "0.20132659199999992\n",
            "0.9672065024\n",
            "2.0\n",
            "1.6\n",
            "1.2649110640673518\n"
          ]
        }
      ],
      "source": [
        "from scipy import stats\n",
        "X = stats.binom(10, 0.2)  # Declare X to be a binomial random variable\n",
        "print(X.pmf(3))           # P(X = 3) which implies we are calculating the mass function for the third trial\n",
        "print(X.cdf(4))           # P(X <= 4) which implies we are calculating cumulative distribution upto fourth trial\n",
        "print(X.mean())           # Mean\n",
        "print(X.var())            # Variance\n",
        "print(X.std())            # Standard Deviation"
      ]
    },
    {
      "cell_type": "code",
      "source": [],
      "metadata": {
        "id": "hH_lXXrYXZZ6"
      },
      "execution_count": null,
      "outputs": []
    },
    {
      "cell_type": "code",
      "source": [],
      "metadata": {
        "id": "4JlYwh-fXZny"
      },
      "execution_count": null,
      "outputs": []
    },
    {
      "cell_type": "markdown",
      "metadata": {
        "id": "qLDPUM22Q0Gz"
      },
      "source": [
        "## Question 3\n",
        "You are given a dice which you can roll five times to check how many times you find \"6\" and probability of the roll being a success is 80%.  Write a code to find the probability mass function cumulative distribution function for the final trial."
      ]
    },
    {
      "cell_type": "code",
      "execution_count": null,
      "metadata": {
        "id": "G0l_M3EhGtsd",
        "colab": {
          "base_uri": "https://localhost:8080/"
        },
        "outputId": "3650c1e4-0f34-4020-8294-3a5b15598c8e"
      },
      "outputs": [
        {
          "output_type": "stream",
          "name": "stdout",
          "text": [
            "0.3276800000000001\n",
            "1.0\n"
          ]
        }
      ],
      "source": [
        "from scipy import stats\n",
        "X = stats.binom(5, 0.8)  # Declare X to be a binomial random variable\n",
        "print(X.pmf(5))           # P(X = 3) which implies we are calculating the mass function for the third trial\n",
        "print(X.cdf(5))\n"
      ]
    },
    {
      "cell_type": "markdown",
      "metadata": {
        "id": "OEZlMTgmQ0Xq"
      },
      "source": [
        "### 8. Generating Normal Distribution\n",
        "We will now see how we can generate a Normal Distribution and we will find the PDF, CDF and other statistical measures using Stats function from SciPy library. Here, we will also use Math library for some mathematical calculation.\n",
        "\n",
        "Following is an example code given, for function norm($μ=3,σ^2=16$), where, μ is the mean and $σ^2$ is the Variance. In theory we can use Variance for calculation, however, in **SciPy we need to use Standard Deviation**. Hence, we will calculate square root of Variance."
      ]
    },
    {
      "cell_type": "code",
      "execution_count": null,
      "metadata": {
        "colab": {
          "base_uri": "https://localhost:8080/"
        },
        "id": "-uuTOkhCSOtR",
        "outputId": "2f2b0472-753f-43b4-b637-6c7c424673ca"
      },
      "outputs": [
        {
          "name": "stdout",
          "output_type": "stream",
          "text": [
            "0.09666702920071232\n",
            "0.4012936743170763\n"
          ]
        }
      ],
      "source": [
        "import math\n",
        "from scipy import stats\n",
        "A = stats.norm(3, math.sqrt(16)) # Declare A to be a normal random variable with mean equals 3 and variance equals 16\n",
        "print(A.pdf(4))       \t\t\t # f(4), the probability density at 4\n",
        "print(A.cdf(2))                  # f(2), cumulative probability at 2"
      ]
    },
    {
      "cell_type": "markdown",
      "metadata": {
        "id": "Ay3XXiMb1Awj"
      },
      "source": [
        "## Question 4\n",
        "Write a code to calculate the probability density function and cumulative distrbution function for a normal distribution with $μ=9 ,σ^2=64$, for probability density 6\n"
      ]
    },
    {
      "cell_type": "code",
      "execution_count": null,
      "metadata": {
        "id": "GrEPk2UtGz1r",
        "colab": {
          "base_uri": "https://localhost:8080/"
        },
        "outputId": "7a71dd2d-d08e-44b7-fbdc-39674e8b1236"
      },
      "outputs": [
        {
          "output_type": "stream",
          "name": "stdout",
          "text": [
            "0.04648188673372112\n",
            "0.19078695285251068\n"
          ]
        }
      ],
      "source": [
        "import math\n",
        "from scipy import stats\n",
        "A = stats.norm(9, math.sqrt(64))\n",
        "print(A.pdf(6))       \t\t\t # f(4), the probability density at 4\n",
        "print(A.cdf(2))\n",
        "\n"
      ]
    },
    {
      "cell_type": "markdown",
      "metadata": {
        "id": "k1vL1c0BuvsV"
      },
      "source": [
        "## Question 5\n",
        "Write a code to calculate the normal probability density function for value \"11\" in the range, given, mean=10 and standard deviation=2.\n",
        "**Hint:** remember to use standard deviation instead of variance in the code."
      ]
    },
    {
      "cell_type": "code",
      "execution_count": null,
      "metadata": {
        "id": "TydI6AnzG0ci"
      },
      "outputs": [],
      "source": []
    },
    {
      "cell_type": "code",
      "source": [],
      "metadata": {
        "id": "C-X9xGv3XFAv"
      },
      "execution_count": null,
      "outputs": []
    },
    {
      "cell_type": "markdown",
      "metadata": {
        "id": "ZSOJp_WIT3m5"
      },
      "source": [
        "### 9. Calculating Probability and Conditional Probability\n",
        "\n",
        "Here, we will see examples of probability calculation from a random variable. To do so, we will use **random** library from python.\n",
        "\n",
        "From a tossing coin we have two events in a sample space.\n",
        "\n",
        "The following code calculates the probability of getting head when we do  **ten, hundred, and thousand** trials of flip for an **fair** coin which **50% or below** will be the probability of getting heads from random flips\n"
      ]
    },
    {
      "cell_type": "code",
      "execution_count": null,
      "metadata": {
        "colab": {
          "base_uri": "https://localhost:8080/"
        },
        "id": "8_eTghrVUH0Y",
        "outputId": "02b97fa5-fc05-4be9-d043-83337f75c4c2"
      },
      "outputs": [
        {
          "name": "stdout",
          "output_type": "stream",
          "text": [
            "0.5\n",
            "0.52\n",
            "0.491\n"
          ]
        }
      ],
      "source": [
        "def toss_coin(n):\n",
        "    trials = []\n",
        "    for i in range(n):\n",
        "        trials.append(rnd.random() <= 0.5) #we are considering 50% or below will be the probability of getting heads from random flips\n",
        "    return sum(trials) #returns the event count for observed heads from coin flips\n",
        "\n",
        "def probability(n, e):\n",
        "  probability_heads=(e/n)\n",
        "  return probability_heads\n",
        "\n",
        "\n",
        "n=10\n",
        "probability_heads =probability(n, toss_coin(n))\n",
        "print(probability_heads)\n",
        "\n",
        "n=100\n",
        "probability_heads =probability(n, toss_coin(n))\n",
        "print(probability_heads)\n",
        "\n",
        "n=1000\n",
        "probability_heads =probability(n, toss_coin(n))\n",
        "print(probability_heads)"
      ]
    },
    {
      "cell_type": "markdown",
      "metadata": {
        "id": "HcYsL9I3onSL"
      },
      "source": [
        "##  Question 6\n",
        "Now, calculate the probability of finding  \"Tails\" when you toss a **fair coin** with 50% or more will be the probability of getting tail from random fair flips.\n",
        "\n",
        "Write a code to calculate the probability of getting head when we do  **ten, hundred, and thousand** trials of flip"
      ]
    },
    {
      "cell_type": "code",
      "execution_count": null,
      "metadata": {
        "id": "Kwmqd1gJG4KP",
        "colab": {
          "base_uri": "https://localhost:8080/"
        },
        "outputId": "9b8ff11b-6e98-4a2a-d421-9d9eeabd174e"
      },
      "outputs": [
        {
          "output_type": "stream",
          "name": "stdout",
          "text": [
            "Probability of getting Tails in 10 trials: 0.6\n",
            "Probability of getting Tails in 100 trials: 0.55\n",
            "Probability of getting Tails in 1000 trials: 0.494\n",
            "Probability of getting Heads in 10 trials: 0.7\n",
            "Probability of getting Heads in 100 trials: 0.44\n",
            "Probability of getting Heads in 1000 trials: 0.501\n"
          ]
        }
      ],
      "source": [
        "def toss_coin_tails(n):\n",
        "    trials = []\n",
        "    for i in range(n):\n",
        "        trials.append(rnd.random() >= 0.5)\n",
        "    return sum(trials)\n",
        "\n",
        "def toss_coin_heads(n):\n",
        "    trials = []\n",
        "    for i in range(n):\n",
        "        trials.append(rnd.random() < 0.5)\n",
        "    return sum(trials)\n",
        "\n",
        "def probability(n, e):\n",
        "    return e / n\n",
        "\n",
        "\n",
        "n_values = [10, 100, 1000]\n",
        "for n in n_values:\n",
        "    probability_tails = probability(n, toss_coin_tails(n))\n",
        "    print(f\"Probability of getting Tails in {n} trials: {probability_tails}\")\n",
        "\n",
        "\n",
        "for n in n_values:\n",
        "    probability_heads = probability(n, toss_coin_heads(n))\n",
        "    print(f\"Probability of getting Heads in {n} trials: {probability_heads}\")\n"
      ]
    },
    {
      "cell_type": "markdown",
      "metadata": {
        "id": "Zp-4yItLpEM1"
      },
      "source": [
        "## Question 7 (More Challenging)\n",
        "Write a code to find the probability of both Heads and Tails for the same number of trials."
      ]
    },
    {
      "cell_type": "code",
      "execution_count": null,
      "metadata": {
        "id": "ucgw4Hq9L5kI"
      },
      "outputs": [],
      "source": []
    },
    {
      "cell_type": "markdown",
      "metadata": {
        "id": "NfqIixPiLFMx"
      },
      "source": [
        "### Another Example - Card Game"
      ]
    },
    {
      "cell_type": "markdown",
      "metadata": {
        "id": "4bwg_-mk6kmp"
      },
      "source": [
        "We will now see a sample code where we will calculate conditional probability. The condition of calculating the probability is such that you first draw a face card (which is a given situation) and after you draw this first card what is the probability that your next card will be an ace?\n",
        "Note: There are 4 Aces and 12 Face cards in a deck of 52 cards."
      ]
    },
    {
      "cell_type": "code",
      "execution_count": null,
      "metadata": {
        "colab": {
          "base_uri": "https://localhost:8080/"
        },
        "id": "ackZI1wwG60T",
        "outputId": "c27219b5-26a1-4902-c977-562c4a8d04f1"
      },
      "outputs": [
        {
          "name": "stdout",
          "output_type": "stream",
          "text": [
            "probability % of finding aces, rounded to one decimal place: 7.692%\n",
            "probability % of drawing an ace, given a face card was just drawn: 7.692%\n"
          ]
        }
      ],
      "source": [
        " #Create function that returns probability percent rounded to one decimal place\n",
        "def event_probability(event_outcomes, sample_space):\n",
        "    probability = (event_outcomes / sample_space)\n",
        "    return round(probability, 6)\n",
        "\n",
        "\n",
        "# Sample Space\n",
        "cards = 52\n",
        "\n",
        "# Outcomes\n",
        "aces = 4\n",
        "\n",
        "# Divide possible outcomes by the sample set\n",
        "ace_probability_percent = event_probability(aces,cards) *100\n",
        "\n",
        "# Print probability percent rounded to one decimal place\n",
        "print(\"probability % of finding aces, rounded to one decimal place: \"+str(round(ace_probability_percent, 3)) + '%')\n",
        "\n",
        "\n",
        "# Probability of drawing an ace, given you had just drawn a face card if you are the first player (the deck is NOT shuffled after the first draw)\n",
        "\n",
        "face_cards = 12\n",
        "face_card_probability = event_probability(face_cards, cards-1) # this is also the probability of the evidence\n",
        "\n",
        "ace_probability= event_probability(aces,cards) #this is also the probability of the hypothesis\n",
        "\n",
        "probability_face_card_n_ace=face_card_probability*ace_probability\n",
        "\n",
        "conditional_probability= probability_face_card_n_ace / face_card_probability\n",
        "\n",
        "print(\"probability % of drawing an ace, given a face card was just drawn: \"+str(round(conditional_probability,5)*100)+'%')\n"
      ]
    },
    {
      "cell_type": "markdown",
      "metadata": {
        "id": "zWpGxb9C8b70"
      },
      "source": [
        "## Question 8\n",
        "From a given deck of 52 cards you first draw a king. What is the probability of finding another king from the same deck, considering the first card is already outside of the deck now? Write a code to calculate the conditional probability of getting the second card as another king."
      ]
    },
    {
      "cell_type": "code",
      "execution_count": null,
      "metadata": {
        "id": "gm-D2lk_Oa2X"
      },
      "outputs": [],
      "source": []
    }
  ],
  "metadata": {
    "colab": {
      "provenance": [],
      "include_colab_link": true
    },
    "kernelspec": {
      "display_name": "Python 3 (ipykernel)",
      "language": "python",
      "name": "python3"
    },
    "language_info": {
      "codemirror_mode": {
        "name": "ipython",
        "version": 3
      },
      "file_extension": ".py",
      "mimetype": "text/x-python",
      "name": "python",
      "nbconvert_exporter": "python",
      "pygments_lexer": "ipython3",
      "version": "3.12.7"
    }
  },
  "nbformat": 4,
  "nbformat_minor": 0
}